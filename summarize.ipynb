{
 "cells": [
  {
   "cell_type": "code",
   "execution_count": 1,
   "metadata": {},
   "outputs": [],
   "source": [
    "from langchain_core.prompts import ChatPromptTemplate\n",
    "from langchain_groq import ChatGroq\n",
    "\n",
    "model = ChatGroq(\n",
    "    temperature=0,\n",
    "    model=\"llama3-8b-8192\",\n",
    "    api_key=\"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\" # Optional if not set as an environment variable\n",
    ")"
   ]
  },
  {
   "cell_type": "code",
   "execution_count": 4,
   "metadata": {},
   "outputs": [
    {
     "ename": "SyntaxError",
     "evalue": "invalid syntax (4155941477.py, line 6)",
     "output_type": "error",
     "traceback": [
      "\u001b[1;36m  Cell \u001b[1;32mIn[4], line 6\u001b[1;36m\u001b[0m\n\u001b[1;33m    def extract_text_from_pdf(\"data_pdf.pdf\"):\u001b[0m\n\u001b[1;37m                              ^\u001b[0m\n\u001b[1;31mSyntaxError\u001b[0m\u001b[1;31m:\u001b[0m invalid syntax\n"
     ]
    }
   ],
   "source": [
    "from langchain_community.document_loaders import PyPDFLoader\n",
    "from langchain_community.document_loaders import DirectoryLoader\n",
    "#from langchain_community.embeddings import HuggingFaceEmbeddings\n",
    "from langchain.text_splitter import RecursiveCharacterTextSplitter\n",
    "\n",
    "def extract_text_from_pdf(path):\n",
    "    \n",
    "    \n",
    "    text_splitter = RecursiveCharacterTextSplitter(chunk_size=512, chunk_overlap=100)\n",
    "    # Load all PDFs from a directory\n",
    "    loader = DirectoryLoader(path, glob=\"**/*.pdf\", loader_cls=PyPDFLoader)\n",
    "    doc = loader.load()"
   ]
  },
  {
   "cell_type": "code",
   "execution_count": null,
   "metadata": {},
   "outputs": [],
   "source": [
    "def call_groq(model):\n",
    "    model = ChatGroq(\n",
    "    temperature=0,\n",
    "    model=model ,\n",
    "    api_key=\"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\"\n"
   ]
  },
  {
   "cell_type": "code",
   "execution_count": 11,
   "metadata": {},
   "outputs": [],
   "source": [
    "path = \"D:\\Projects\\Milvus\\data\""
   ]
  },
  {
   "cell_type": "code",
   "execution_count": 39,
   "metadata": {},
   "outputs": [],
   "source": [
    "from langchain_community.document_loaders import PyPDFLoader\n",
    "from langchain_community.document_loaders import DirectoryLoader\n",
    "#from langchain_community.embeddings import HuggingFaceEmbeddings\n",
    "from langchain.text_splitter import RecursiveCharacterTextSplitter\n",
    "\n",
    "def extract_text_from_pdf(path):\n",
    "    \n",
    "    \n",
    "    text_splitter = RecursiveCharacterTextSplitter(chunk_size=512, chunk_overlap=100)\n",
    "    # Load all PDFs from a directory\n",
    "    loader = DirectoryLoader(path, glob=\"**/*.pdf\", loader_cls=PyPDFLoader)\n",
    "    doc = loader.load()\n",
    "    return doc"
   ]
  },
  {
   "cell_type": "code",
   "execution_count": 40,
   "metadata": {},
   "outputs": [],
   "source": [
    "doc =extract_text_from_pdf(path)"
   ]
  },
  {
   "cell_type": "code",
   "execution_count": 42,
   "metadata": {},
   "outputs": [
    {
     "data": {
      "text/plain": [
       "' (3) For the purposes of these rules the expression, \"international carriage\" means any carriage in \\nwhich according to the contract made by the parties, the place of departure and the place of \\ndestination, whether or not there be a break in the carriage or  a transshipment, are situated either \\nwithin the territories of two High Contracting Parties, or within the territory of a single High \\nContracting Party, if there is an agreed stopping place within a territory subject to the sovereignty, \\nsuzerainty, mandat e or authority of another power, even though that power is not a party to the \\nConvention. A carriage without such an agreed stopping place between territories subject to the \\nsovereignty, suzerainty, mandate or authority of the same High Contracting Party i s not deemed to \\nbe international for the purposes of these Rules.\"  \\n41. Rule 2 of these Rules, provides that these rules apply to carriage performed by the State or by \\nlegally constituted public bodies. Rule 2 reads as under:  \\n\"2. (1) These rules apply to carriage performed by the State or by legally constituted public bodies \\nprovided it falls within the conditions  laid down in  rule 1.  \\n(2) These rules do not apply to carriage performed under the terms of any International Postal \\nConvention.\"  \\n42. Rule 18 provides for liability of the carrier for damages and Rule 19 provides for liability of the \\ncarrier for damages occasioned by delay. Rule 18 and 19 read as under:  \\n28 \\n\"18. (1) The carrier is liable for damage sustained in the event of the destruction or loss of, or of \\ndamage to, any registered luggage or any goods, if the occurrence which caused the damage so \\nsustained took place during the carriage by air.  \\n(2) The carriage by air within the meaning of sub -rule (1) comprises the period during which the \\nluggage or goods are in charge of the carrier, whether in any aerodrome or on board an aircraft, or, \\nin the case of a landing outside an aerodrome in any place  whatsoever. (3) The period of the \\ncarriage by air does not extend to any carriage by land, by sea or by river performed outside an \\naerodrome. If, however, such a carriage takes place in the performance of a contract for carriage by \\nair, for the purpose of  loading, delivery or transshipment, any damage is presumed, subject to \\nproof to the contract, to have been the result of an event which took place during the carriage by \\nair. \\n19. The carrier is liable for damage occasioned by delay in the carriage by air of passengers, \\nluggage or goods.\"  \\n43. Rule 28 provides for Territorial Jurisdiction for suing for damages which reads as under:  \\n\"28. An action for damages must be brought at the option of the plaintiff either before the Court \\nhaving jurisdiction where the carrier is ordinarily resident, or has his principal place of business, or \\nhas an establishment by which the contract has been m ade or before the Court having jurisdiction \\nat the place of destination.\"  \\n44. As per the Annexure to the Air Act under  Section 3  sub Section 2 , Part -I, vide entry 47, Ethiopia \\nis a High Contracting Party to the Convention w.e.f. 12.11.1950.  \\n45. A bare perusal of the aforesaid rules in the First Schedule, which has the force of law as \\nper Section 3  of the Air Act, read with  Section 7  leaves no room or doubt that a state carrier or '"
      ]
     },
     "execution_count": 42,
     "metadata": {},
     "output_type": "execute_result"
    }
   ],
   "source": [
    "doc[5].page_content"
   ]
  },
  {
   "cell_type": "code",
   "execution_count": 65,
   "metadata": {},
   "outputs": [],
   "source": [
    "pdf_text = \"\"\n",
    "for data in doc:\n",
    "    text = data.page_content\n",
    "    pdf_text +=text"
   ]
  },
  {
   "cell_type": "code",
   "execution_count": 66,
   "metadata": {},
   "outputs": [
    {
     "data": {
      "text/plain": [
       "17691"
      ]
     },
     "execution_count": 66,
     "metadata": {},
     "output_type": "execute_result"
    }
   ],
   "source": [
    "len(pdf_text)"
   ]
  },
  {
   "cell_type": "code",
   "execution_count": 27,
   "metadata": {},
   "outputs": [
    {
     "data": {
      "text/plain": [
       "\"Supreme Court of India  \\nEthiopian Airlines vs Ganesh Narain Saboo on 9 August, 2011  \\nDalveer Bhandari, J.  \\n1. This appeal is directed against the judgment and order of the National Consumer Disputes \\nRedressal Commission, New Delhi, dated 7.1.2004 passed in First Appeal No. 190 of 1996.  \\nBRIEF FACTS:  \\n3. The respondent booked a consignment of Reactive Dyes with the appellant Ethiopian Airlines to be \\ndelivered at the Dar Es. Salaam, Tanzania on 30.9.1992. The airway bills were duly issued by the \\nappellant from its office in Bombay at the Taj Mahal Hotel for the said consignment. According to the \\nrespondent there was gross delay in arrival of the consignment at the destination, which led to \\ndeterioration of the goods.  \\n4. The respondent filed a complaint on 11.5.1993 before the Maharashtra State Consumer Dispute \\nRedressal Commission (hereinafter referred to as `the State Commission'). Pursuant to the notice \\nissued by the State Commission, the appellant filed a written st atement in which the appellant raised \\na preliminary objection regarding maintainability of the complaint.  \\n5. On 17.1.1996, the State Commission held that the complaint filed by the respondent was not \\nmaintainable. The respondent aggrieved by the said order preferred an appeal before the National \\nConsumer Disputes Redressal Commission (hereinafter referred to as `the National Commission'). \\nThe National Commission categorically observed in the impugned judgment that  Section 86  of the \\nCode of Civil Procedure (for short ` C.P .C .') was not applicable since the case in dispute is covered \\nunder the provisions of the  Consumer Protection Act, 1986  (hereinafter referred to as `the Act').  \\n6. The National Commission further held that  Section 13(4)  of the Act makes  the CPC  applicable only \\nfor the limited purpose. As such, the National Commission took the view that the judgment of the \\nHigh Court of Delhi delivered in the case of  Deepak Wadhwa v. Aeroflot  24 (1983) Delhi Law Times 1 \\nhad no bearing and application in deciding the complaint filed by the respondent.  \\n7. The National Commission set aside the order passed by the State Commission and remitted it to \\nthe State Commission so that the State Commission could decide it afresh in accordance with law.  \\n8. The appellant, aggrieved by the said order, has preferred this appeal on the ground that a foreign \\nState or its instrumentality cannot be proceeded against under the Act without obtaining prior \\npermission from the Central Government. The appellant conte nds that a foreign State or its \\ninstrumentality can legitimately claim sovereign immunity from being proceeded against under the \\nAct in respect of a civil claim.  \\n9. It is submitted that, in India, it is clear that there is presumption that sovereign immunity is \\nabsolute, but that a foreign sovereign can still be sued in India under certain circumstances with the \\npermission of the Government of India. The Central Go vernment may give consent for such a suit if:  \\n(a) the foreign State has instituted a suit in the Court against the person desiring to sue it; or  \\n(b) the foreign State trades within the legal limits of the jurisdiction of the Court or;  \\n(c) the foreign State is in possession of immovable property situated within those limits and is to be \\nsued with reference to such property or for money charged thereon or;  (d) the foreign State has expressly or impliedly waived the privilege of immunity. Relevant case law \\nand submissions  \\nConsequently, the proceedings before these fora are legal proceedings.  \\n23. The respondent contends that a bare perusal of  Section 13(4) , (5) and (6) clearly demonstrate \\nthat as far as the fora created under the  Consumer Protection Act, 1986  for deciding consumer \\ndisputes are concerned, the provisions  of the CPC   are applicable to a limited extent only and not all \\nprovisions  of CPC  are made applicable thereto.  \\n33. Mr. Khanna further submitted that the Act is a special statute enacted to provide remedies to a \\nspecial class of litigants, namely the consumers, by a special procedure provided for under the \\nstatute, instead of the usual procedure set forth under  the Code of Civil Procedure . \\n \""
      ]
     },
     "execution_count": 27,
     "metadata": {},
     "output_type": "execute_result"
    }
   ],
   "source": [
    "len(pdf_text)"
   ]
  },
  {
   "cell_type": "code",
   "execution_count": 74,
   "metadata": {},
   "outputs": [],
   "source": [
    "from groq import Groq\n",
    "import os\n",
    "#os.environ.get(\"GROQ_API_KEY\")\n",
    "\n",
    "def summarize_pdf(doc,path):\n",
    "    doc =extract_text_from_pdf(path)\n",
    "    pdf_text = \"\"\n",
    "    for data in doc:\n",
    "        text = data.page_content\n",
    "        pdf_text +=text\n",
    "    client = Groq(\n",
    "        api_key=\"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\",\n",
    "    )\n",
    "    prompt = \"Summarize the following text without losing any essential info related to the case:\\n\" + text\n",
    "\n",
    "    chat_completion = client.chat.completions.create(\n",
    "        messages=[\n",
    "            {\n",
    "                \"role\": \"user\",\n",
    "                \"content\": prompt,\n",
    "            }\n",
    "        ],\n",
    "        model=\"llama3-8b-8192\",\n",
    "        temperature=0.5,\n",
    "        max_tokens = 4098\n",
    "    )\n",
    "\n",
    "    return chat_completion.choices[0].message.content"
   ]
  },
  {
   "cell_type": "code",
   "execution_count": 75,
   "metadata": {},
   "outputs": [
    {
     "name": "stdout",
     "output_type": "stream",
     "text": [
      "Here is a summary of the text without losing any essential information:\n",
      "\n",
      "The case discusses the jurisdiction of Indian courts over international carriers. It is argued that a legally constituted public body of an international carrier is deemed to have submitted to the jurisdiction of Indian courts, including under the Code of Civil Procedure (CPC) of 1908.\n",
      "\n",
      "Section 86(2) of the CPC provides that the Central Government can give consent for a specified suit or class of suits, and this consent can specify the court in which the suit can be filed. The section also outlines the conditions under which consent can be given.\n",
      "\n",
      "The case also references Section 7 of the Air Act, which, read with the rules in the first schedule, implies that consent is deemed to be granted by the Central Government for a specified class of suits under the Air Act.\n",
      "\n",
      "Additionally, Section 3 of the Act states that the provisions of the Act are in addition to, and not in derogation of, other laws in force.\n"
     ]
    }
   ],
   "source": [
    "print(summarize_pdf(doc))"
   ]
  },
  {
   "cell_type": "code",
   "execution_count": 76,
   "metadata": {},
   "outputs": [],
   "source": [
    "import pandas as pd"
   ]
  },
  {
   "cell_type": "code",
   "execution_count": 92,
   "metadata": {},
   "outputs": [],
   "source": [
    "df = pd.read_csv(\"commerical_laws_2.csv\")"
   ]
  },
  {
   "cell_type": "code",
   "execution_count": 93,
   "metadata": {},
   "outputs": [
    {
     "data": {
      "text/plain": [
       "2348"
      ]
     },
     "execution_count": 93,
     "metadata": {},
     "output_type": "execute_result"
    }
   ],
   "source": [
    "len(df)"
   ]
  },
  {
   "cell_type": "code",
   "execution_count": 94,
   "metadata": {},
   "outputs": [],
   "source": [
    "df.drop(['Unnamed: 4'],axis=1,inplace=True)"
   ]
  },
  {
   "cell_type": "code",
   "execution_count": 95,
   "metadata": {},
   "outputs": [
    {
     "data": {
      "text/plain": [
       "Name of statute    0\n",
       "Section Number     0\n",
       "Section Title      0\n",
       "Section Text       3\n",
       "dtype: int64"
      ]
     },
     "execution_count": 95,
     "metadata": {},
     "output_type": "execute_result"
    }
   ],
   "source": [
    "df.isnull().sum()"
   ]
  },
  {
   "cell_type": "code",
   "execution_count": 97,
   "metadata": {},
   "outputs": [],
   "source": [
    "df=df.dropna()"
   ]
  },
  {
   "cell_type": "code",
   "execution_count": 98,
   "metadata": {},
   "outputs": [
    {
     "data": {
      "text/plain": [
       "2345"
      ]
     },
     "execution_count": 98,
     "metadata": {},
     "output_type": "execute_result"
    }
   ],
   "source": [
    "len(df)"
   ]
  },
  {
   "cell_type": "code",
   "execution_count": 88,
   "metadata": {},
   "outputs": [
    {
     "data": {
      "text/plain": [
       "Name of statute    0\n",
       "Section Number     0\n",
       "Section Title      0\n",
       "Section Text       0\n",
       "Unnamed: 4         0\n",
       "dtype: int64"
      ]
     },
     "execution_count": 88,
     "metadata": {},
     "output_type": "execute_result"
    }
   ],
   "source": [
    "df.isnull().sum()"
   ]
  },
  {
   "cell_type": "code",
   "execution_count": 89,
   "metadata": {},
   "outputs": [
    {
     "data": {
      "text/plain": [
       "2"
      ]
     },
     "execution_count": 89,
     "metadata": {},
     "output_type": "execute_result"
    }
   ],
   "source": [
    "len(df)"
   ]
  },
  {
   "cell_type": "code",
   "execution_count": 81,
   "metadata": {},
   "outputs": [],
   "source": []
  },
  {
   "cell_type": "code",
   "execution_count": 82,
   "metadata": {},
   "outputs": [
    {
     "data": {
      "text/plain": [
       "Name of statute    0\n",
       "Section Number     0\n",
       "Section Title      0\n",
       "Section Text       0\n",
       "dtype: int64"
      ]
     },
     "execution_count": 82,
     "metadata": {},
     "output_type": "execute_result"
    }
   ],
   "source": [
    "df.isnull().sum()"
   ]
  },
  {
   "cell_type": "code",
   "execution_count": 100,
   "metadata": {},
   "outputs": [],
   "source": [
    "df.to_csv(\"CommercialActs.csv\", index=False)"
   ]
  },
  {
   "cell_type": "code",
   "execution_count": 102,
   "metadata": {},
   "outputs": [
    {
     "data": {
      "text/html": [
       "<div>\n",
       "<style scoped>\n",
       "    .dataframe tbody tr th:only-of-type {\n",
       "        vertical-align: middle;\n",
       "    }\n",
       "\n",
       "    .dataframe tbody tr th {\n",
       "        vertical-align: top;\n",
       "    }\n",
       "\n",
       "    .dataframe thead th {\n",
       "        text-align: right;\n",
       "    }\n",
       "</style>\n",
       "<table border=\"1\" class=\"dataframe\">\n",
       "  <thead>\n",
       "    <tr style=\"text-align: right;\">\n",
       "      <th></th>\n",
       "      <th>Name of statute</th>\n",
       "      <th>Section Number</th>\n",
       "      <th>Section Title</th>\n",
       "      <th>Section Text</th>\n",
       "    </tr>\n",
       "  </thead>\n",
       "  <tbody>\n",
       "    <tr>\n",
       "      <th>2343</th>\n",
       "      <td>THE PATENTS ACT, 1970</td>\n",
       "      <td>Section 159.</td>\n",
       "      <td>Power of Central Government to make rules.</td>\n",
       "      <td>(1) The Central Government may, by notificatio...</td>\n",
       "    </tr>\n",
       "    <tr>\n",
       "      <th>2344</th>\n",
       "      <td>THE PATENTS ACT, 1970</td>\n",
       "      <td>Section 160.</td>\n",
       "      <td>Rules to be placed before Parliament.</td>\n",
       "      <td>Every rule made under this Act shall be laid, ...</td>\n",
       "    </tr>\n",
       "    <tr>\n",
       "      <th>2345</th>\n",
       "      <td>THE PATENTS ACT, 1970</td>\n",
       "      <td>Section 161.</td>\n",
       "      <td>[Omitted.]</td>\n",
       "      <td>[Special provisions with respect to certain ap...</td>\n",
       "    </tr>\n",
       "    <tr>\n",
       "      <th>2346</th>\n",
       "      <td>THE PATENTS ACT, 1970</td>\n",
       "      <td>Section 162.</td>\n",
       "      <td>Repeal of Act 2 of 1911 in so far as it relate...</td>\n",
       "      <td>(1) The Indian Patents and Designs Act, 1911, ...</td>\n",
       "    </tr>\n",
       "    <tr>\n",
       "      <th>2347</th>\n",
       "      <td>THE PATENTS ACT, 1970</td>\n",
       "      <td>Section 163.</td>\n",
       "      <td>[Omitted.]</td>\n",
       "      <td>[Amendment of Act 43 of 1958].â€”Omitted by Th...</td>\n",
       "    </tr>\n",
       "  </tbody>\n",
       "</table>\n",
       "</div>"
      ],
      "text/plain": [
       "            Name of statute Section Number  \\\n",
       "2343  THE PATENTS ACT, 1970   Section 159.   \n",
       "2344  THE PATENTS ACT, 1970   Section 160.   \n",
       "2345  THE PATENTS ACT, 1970   Section 161.   \n",
       "2346  THE PATENTS ACT, 1970   Section 162.   \n",
       "2347  THE PATENTS ACT, 1970   Section 163.   \n",
       "\n",
       "                                          Section Title  \\\n",
       "2343         Power of Central Government to make rules.   \n",
       "2344              Rules to be placed before Parliament.   \n",
       "2345                                         [Omitted.]   \n",
       "2346  Repeal of Act 2 of 1911 in so far as it relate...   \n",
       "2347                                         [Omitted.]   \n",
       "\n",
       "                                           Section Text  \n",
       "2343  (1) The Central Government may, by notificatio...  \n",
       "2344  Every rule made under this Act shall be laid, ...  \n",
       "2345  [Special provisions with respect to certain ap...  \n",
       "2346  (1) The Indian Patents and Designs Act, 1911, ...  \n",
       "2347  [Amendment of Act 43 of 1958].â€”Omitted by Th...  "
      ]
     },
     "execution_count": 102,
     "metadata": {},
     "output_type": "execute_result"
    }
   ],
   "source": [
    "df.tail()"
   ]
  },
  {
   "cell_type": "code",
   "execution_count": 3,
   "metadata": {},
   "outputs": [
    {
     "name": "stdout",
     "output_type": "stream",
     "text": [
      "True\n"
     ]
    }
   ],
   "source": [
    "import torch\n",
    "print(torch.cuda.is_available())"
   ]
  },
  {
   "cell_type": "code",
   "execution_count": 112,
   "metadata": {},
   "outputs": [
    {
     "name": "stdout",
     "output_type": "stream",
     "text": [
      "Torch version: 2.3.0+cpu\n"
     ]
    }
   ],
   "source": [
    "import torch\n",
    "\n",
    "print(\"Torch version:\",torch.__version__)"
   ]
  },
  {
   "cell_type": "code",
   "execution_count": 109,
   "metadata": {},
   "outputs": [
    {
     "name": "stderr",
     "output_type": "stream",
     "text": [
      "'nvcc' is not recognized as an internal or external command,\n",
      "operable program or batch file.\n"
     ]
    }
   ],
   "source": [
    "!nvcc -V"
   ]
  },
  {
   "cell_type": "code",
   "execution_count": 111,
   "metadata": {},
   "outputs": [
    {
     "name": "stdout",
     "output_type": "stream",
     "text": [
      "Sun Aug 25 01:53:13 2024       \n",
      "+---------------------------------------------------------------------------------------+\n",
      "| NVIDIA-SMI 546.80                 Driver Version: 546.80       CUDA Version: 12.3     |\n",
      "|-----------------------------------------+----------------------+----------------------+\n",
      "| GPU  Name                     TCC/WDDM  | Bus-Id        Disp.A | Volatile Uncorr. ECC |\n",
      "| Fan  Temp   Perf          Pwr:Usage/Cap |         Memory-Usage | GPU-Util  Compute M. |\n",
      "|                                         |                      |               MIG M. |\n",
      "|=========================================+======================+======================|\n",
      "|   0  NVIDIA GeForce RTX 3050 ...  WDDM  | 00000000:01:00.0 Off |                  N/A |\n",
      "| N/A   42C    P0              11W /  73W |      0MiB /  4096MiB |      0%      Default |\n",
      "|                                         |                      |                  N/A |\n",
      "+-----------------------------------------+----------------------+----------------------+\n",
      "                                                                                         \n",
      "+---------------------------------------------------------------------------------------+\n",
      "| Processes:                                                                            |\n",
      "|  GPU   GI   CI        PID   Type   Process name                            GPU Memory |\n",
      "|        ID   ID                                                             Usage      |\n",
      "|=======================================================================================|\n",
      "|  No running processes found                                                           |\n",
      "+---------------------------------------------------------------------------------------+\n"
     ]
    }
   ],
   "source": [
    "!nvidia-smi"
   ]
  },
  {
   "cell_type": "code",
   "execution_count": null,
   "metadata": {},
   "outputs": [],
   "source": []
  }
 ],
 "metadata": {
  "kernelspec": {
   "display_name": "Python 3",
   "language": "python",
   "name": "python3"
  },
  "language_info": {
   "codemirror_mode": {
    "name": "ipython",
    "version": 3
   },
   "file_extension": ".py",
   "mimetype": "text/x-python",
   "name": "python",
   "nbconvert_exporter": "python",
   "pygments_lexer": "ipython3",
   "version": "3.11.9"
  }
 },
 "nbformat": 4,
 "nbformat_minor": 2
}
